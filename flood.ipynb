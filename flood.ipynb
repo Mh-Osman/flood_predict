{
  "nbformat": 4,
  "nbformat_minor": 0,
  "metadata": {
    "colab": {
      "provenance": [],
      "gpuType": "T4",
      "authorship_tag": "ABX9TyPa9bRp2eEXXISTx6lGEldl",
      "include_colab_link": true
    },
    "kernelspec": {
      "name": "python3",
      "display_name": "Python 3"
    },
    "language_info": {
      "name": "python"
    },
    "accelerator": "GPU"
  },
  "cells": [
    {
      "cell_type": "markdown",
      "metadata": {
        "id": "view-in-github",
        "colab_type": "text"
      },
      "source": [
        "<a href=\"https://colab.research.google.com/github/Mh-Osman/flood_predict/blob/main/flood.ipynb\" target=\"_parent\"><img src=\"https://colab.research.google.com/assets/colab-badge.svg\" alt=\"Open In Colab\"/></a>"
      ]
    },
    {
      "cell_type": "code",
      "execution_count": null,
      "metadata": {
        "colab": {
          "base_uri": "https://localhost:8080/"
        },
        "id": "KfmAitPBK9_B",
        "outputId": "9dfba9eb-8ce3-4b35-a17a-76397a37fa6d"
      },
      "outputs": [
        {
          "output_type": "stream",
          "name": "stdout",
          "text": [
            "Mounted at /content/drive\n",
            "Dataset extracted successfully.\n"
          ]
        }
      ],
      "source": [
        "from google.colab import drive\n",
        "import zipfile\n",
        "import os\n",
        "\n",
        "# Mount Google Drive\n",
        "drive.mount('/content/drive')\n",
        "\n",
        "# Path to ZIP file (update if you placed it elsewhere)\n",
        "zip_path = \"/content/drive/MyDrive/SEN12FLOOD.zip\"  # or wherever you've saved it\n",
        "\n",
        "# Extract ZIP to /content directory in Colab\n",
        "extract_path = \"/content/SEN12FLOOD\"\n",
        "os.makedirs(extract_path, exist_ok=True)\n",
        "\n",
        "with zipfile.ZipFile(zip_path, 'r') as zip_ref:\n",
        "    zip_ref.extractall(extract_path)\n",
        "\n",
        "print(\"Dataset extracted successfully.\")\n"
      ]
    },
    {
      "cell_type": "code",
      "source": [
        "!pip install rasterio"
      ],
      "metadata": {
        "colab": {
          "base_uri": "https://localhost:8080/"
        },
        "id": "S0dqXyRIUIhs",
        "outputId": "a6582329-ff6d-4248-c80c-81e3bad68c1c"
      },
      "execution_count": null,
      "outputs": [
        {
          "output_type": "stream",
          "name": "stdout",
          "text": [
            "Collecting rasterio\n",
            "  Downloading rasterio-1.4.3-cp311-cp311-manylinux_2_17_x86_64.manylinux2014_x86_64.whl.metadata (9.1 kB)\n",
            "Collecting affine (from rasterio)\n",
            "  Downloading affine-2.4.0-py3-none-any.whl.metadata (4.0 kB)\n",
            "Requirement already satisfied: attrs in /usr/local/lib/python3.11/dist-packages (from rasterio) (25.3.0)\n",
            "Requirement already satisfied: certifi in /usr/local/lib/python3.11/dist-packages (from rasterio) (2025.1.31)\n",
            "Requirement already satisfied: click>=4.0 in /usr/local/lib/python3.11/dist-packages (from rasterio) (8.1.8)\n",
            "Collecting cligj>=0.5 (from rasterio)\n",
            "  Downloading cligj-0.7.2-py3-none-any.whl.metadata (5.0 kB)\n",
            "Requirement already satisfied: numpy>=1.24 in /usr/local/lib/python3.11/dist-packages (from rasterio) (2.0.2)\n",
            "Collecting click-plugins (from rasterio)\n",
            "  Downloading click_plugins-1.1.1-py2.py3-none-any.whl.metadata (6.4 kB)\n",
            "Requirement already satisfied: pyparsing in /usr/local/lib/python3.11/dist-packages (from rasterio) (3.2.3)\n",
            "Downloading rasterio-1.4.3-cp311-cp311-manylinux_2_17_x86_64.manylinux2014_x86_64.whl (22.2 MB)\n",
            "\u001b[2K   \u001b[90m━━━━━━━━━━━━━━━━━━━━━━━━━━━━━━━━━━━━━━━━\u001b[0m \u001b[32m22.2/22.2 MB\u001b[0m \u001b[31m59.0 MB/s\u001b[0m eta \u001b[36m0:00:00\u001b[0m\n",
            "\u001b[?25hDownloading cligj-0.7.2-py3-none-any.whl (7.1 kB)\n",
            "Downloading affine-2.4.0-py3-none-any.whl (15 kB)\n",
            "Downloading click_plugins-1.1.1-py2.py3-none-any.whl (7.5 kB)\n",
            "Installing collected packages: cligj, click-plugins, affine, rasterio\n",
            "Successfully installed affine-2.4.0 click-plugins-1.1.1 cligj-0.7.2 rasterio-1.4.3\n"
          ]
        }
      ]
    },
    {
      "cell_type": "code",
      "source": [],
      "metadata": {
        "id": "AdIj8q9k7uA0"
      },
      "execution_count": null,
      "outputs": []
    },
    {
      "cell_type": "code",
      "source": [
        "import os\n",
        "import cv2\n",
        "import json\n",
        "import rasterio\n",
        "import shutil\n",
        "import subprocess\n",
        "\n",
        "# ==== CONFIG ====\n",
        "ROOT_DIR = '/content/SEN12FLOOD/SEN12FLOOD'\n",
        "OUTPUT_DIR = '/content/processed_data'\n",
        "FLOOD_DIR = os.path.join(OUTPUT_DIR, 'flood')\n",
        "NON_FLOOD_DIR = os.path.join(OUTPUT_DIR, 'non_flood')\n",
        "\n",
        "# Create output folders if they don't exist\n",
        "os.makedirs(FLOOD_DIR, exist_ok=True)\n",
        "os.makedirs(NON_FLOOD_DIR, exist_ok=True)\n",
        "\n",
        "# ==== FUNCTIONS ====\n",
        "\n",
        "def check_empty_img(folder_path):\n",
        "    try:\n",
        "        for file in os.listdir(folder_path):\n",
        "            if file.endswith('B01.tif'):\n",
        "                image_path = os.path.join(folder_path, file)\n",
        "                image = cv2.imread(image_path, 0)\n",
        "                if image is None or cv2.countNonZero(image) == 0:\n",
        "                    return True\n",
        "                return False\n",
        "        return True\n",
        "    except Exception as e:\n",
        "        print(f\"Error checking image in {folder_path}: {e}\")\n",
        "        return True\n",
        "\n",
        "def find_band_file(folder_path, band_suffix):\n",
        "    for file in os.listdir(folder_path):\n",
        "        if file.endswith(band_suffix):\n",
        "            return os.path.join(folder_path, file)\n",
        "    return None\n",
        "\n",
        "def stack_bands(folder_path, output_path):\n",
        "    band_suffixes = ['B02.tif', 'B03.tif', 'B04.tif', 'B08.tif']\n",
        "    band_paths = []\n",
        "\n",
        "    try:\n",
        "        for suffix in band_suffixes:\n",
        "            path = find_band_file(folder_path, suffix)\n",
        "            if path is None:\n",
        "                raise FileNotFoundError(f\"Missing band: {suffix}\")\n",
        "            band_paths.append(path)\n",
        "\n",
        "        with rasterio.open(band_paths[0]) as src0:\n",
        "            meta = src0.meta\n",
        "        meta.update(count=len(band_paths))\n",
        "\n",
        "        with rasterio.open(output_path, 'w', **meta) as dst:\n",
        "            for idx, band_path in enumerate(band_paths, start=1):\n",
        "                with rasterio.open(band_path) as src:\n",
        "                    dst.write_band(idx, src.read(1))\n",
        "\n",
        "    except Exception as e:\n",
        "        print(f\"Error stacking bands in {folder_path}: {e}\")\n",
        "        return False\n",
        "    return True\n",
        "\n",
        "def product_name(folder_path):\n",
        "    return os.path.basename(folder_path)\n",
        "\n",
        "def remove_empty_folders(folder_path):\n",
        "    print(f\"Removing folder: {folder_path}\")\n",
        "    subprocess.run(['rm', '-rf', folder_path])\n",
        "\n",
        "def label(folder_name, s1_dict, s2_dict):\n",
        "    # Check S1 data\n",
        "    if folder_name in s1_dict:\n",
        "        for k, v in s1_dict[folder_name].items():\n",
        "            if isinstance(v, dict) and v.get(\"FLOODING\") == True:\n",
        "                return 1  # flood\n",
        "\n",
        "    # Check S2 data\n",
        "    if folder_name in s2_dict:\n",
        "        for k, v in s2_dict[folder_name].items():\n",
        "            if isinstance(v, dict) and v.get(\"FLOODING\") == True:\n",
        "                return 1  # flood\n",
        "\n",
        "    return 0  # non-flood\n",
        "\n",
        "# ==== MAIN PROCESSING ====\n",
        "if __name__ == \"__main__\":\n",
        "    # Load flood labels\n",
        "    with open(os.path.join(ROOT_DIR, 'S1list.json')) as f:\n",
        "        s1_dict = json.load(f)\n",
        "\n",
        "    with open(os.path.join(ROOT_DIR, 'S2list.json')) as f:\n",
        "        s2_dict = json.load(f)\n",
        "\n",
        "    # List all subfolders (samples)\n",
        "    flist = [os.path.join(ROOT_DIR, f) for f in os.listdir(ROOT_DIR) if os.path.isdir(os.path.join(ROOT_DIR, f))]\n",
        "    print(f\"Total folders found: {len(flist)}\")\n",
        "\n",
        "    for folder_path in flist:\n",
        "        folder_name = os.path.basename(folder_path)\n",
        "\n",
        "        if check_empty_img(folder_path):\n",
        "            print(f\"Empty or invalid folder: {folder_path}\")\n",
        "            remove_empty_folders(folder_path)\n",
        "            continue\n",
        "\n",
        "        is_flood = label(folder_name, s1_dict, s2_dict)\n",
        "        output_file = os.path.join(FLOOD_DIR if is_flood else NON_FLOOD_DIR, f\"{folder_name}.tif\")\n",
        "\n",
        "        success = stack_bands(folder_path, output_file)\n",
        "        if success:\n",
        "            print(f\"Saved: {output_file}\")\n",
        "        else:\n",
        "            print(f\"Failed to process: {folder_path}\")\n",
        "            remove_empty_folders(folder_path)\n",
        "\n",
        "    print(\"Preprocessing completed.\")\n"
      ],
      "metadata": {
        "colab": {
          "base_uri": "https://localhost:8080/"
        },
        "id": "6U6KD7IMzmAh",
        "outputId": "7245cff0-00b9-4c33-dbc7-5a565ac5d12d"
      },
      "execution_count": null,
      "outputs": [
        {
          "output_type": "stream",
          "name": "stdout",
          "text": [
            "Total folders found: 335\n",
            "Saved: /content/processed_data/non_flood/0105.tif\n",
            "Saved: /content/processed_data/non_flood/0071.tif\n",
            "Saved: /content/processed_data/flood/0165.tif\n",
            "Saved: /content/processed_data/flood/0149.tif\n",
            "Saved: /content/processed_data/flood/0156.tif\n",
            "Saved: /content/processed_data/flood/0139.tif\n",
            "Saved: /content/processed_data/flood/5.tif\n",
            "Empty or invalid folder: /content/SEN12FLOOD/SEN12FLOOD/0146\n",
            "Removing folder: /content/SEN12FLOOD/SEN12FLOOD/0146\n",
            "Saved: /content/processed_data/flood/0200.tif\n",
            "Empty or invalid folder: /content/SEN12FLOOD/SEN12FLOOD/60\n",
            "Removing folder: /content/SEN12FLOOD/SEN12FLOOD/60\n",
            "Saved: /content/processed_data/flood/0223.tif\n",
            "Saved: /content/processed_data/non_flood/0086.tif\n",
            "Saved: /content/processed_data/flood/18.tif\n",
            "Saved: /content/processed_data/non_flood/0122.tif\n",
            "Saved: /content/processed_data/flood/34.tif\n",
            "Empty or invalid folder: /content/SEN12FLOOD/SEN12FLOOD/0005\n",
            "Removing folder: /content/SEN12FLOOD/SEN12FLOOD/0005\n",
            "Saved: /content/processed_data/flood/0325.tif\n",
            "Saved: /content/processed_data/flood/0208.tif\n",
            "Saved: /content/processed_data/non_flood/0012.tif\n",
            "Saved: /content/processed_data/flood/0288.tif\n",
            "Saved: /content/processed_data/flood/0332.tif\n",
            "Saved: /content/processed_data/non_flood/0014.tif\n",
            "Saved: /content/processed_data/flood/0209.tif\n",
            "Saved: /content/processed_data/non_flood/0094.tif\n",
            "Saved: /content/processed_data/flood/0225.tif\n",
            "Saved: /content/processed_data/flood/0204.tif\n",
            "Saved: /content/processed_data/non_flood/0065.tif\n",
            "Empty or invalid folder: /content/SEN12FLOOD/SEN12FLOOD/10\n",
            "Removing folder: /content/SEN12FLOOD/SEN12FLOOD/10\n",
            "Saved: /content/processed_data/flood/0301.tif\n",
            "Saved: /content/processed_data/non_flood/0124.tif\n",
            "Saved: /content/processed_data/flood/0231.tif\n",
            "Saved: /content/processed_data/non_flood/0063.tif\n",
            "Saved: /content/processed_data/non_flood/0108.tif\n",
            "Empty or invalid folder: /content/SEN12FLOOD/SEN12FLOOD/0034\n",
            "Removing folder: /content/SEN12FLOOD/SEN12FLOOD/0034\n",
            "Empty or invalid folder: /content/SEN12FLOOD/SEN12FLOOD/0150\n",
            "Removing folder: /content/SEN12FLOOD/SEN12FLOOD/0150\n",
            "Saved: /content/processed_data/flood/0184.tif\n",
            "Saved: /content/processed_data/flood/0203.tif\n",
            "Saved: /content/processed_data/flood/20.tif\n",
            "Saved: /content/processed_data/flood/4.tif\n",
            "Saved: /content/processed_data/non_flood/0018.tif\n",
            "Saved: /content/processed_data/non_flood/0066.tif\n",
            "Saved: /content/processed_data/non_flood/28.tif\n",
            "Saved: /content/processed_data/flood/62.tif\n",
            "Saved: /content/processed_data/flood/56.tif\n",
            "Saved: /content/processed_data/non_flood/0082.tif\n",
            "Saved: /content/processed_data/flood/0170.tif\n",
            "Saved: /content/processed_data/flood/0159.tif\n",
            "Saved: /content/processed_data/non_flood/0023.tif\n",
            "Saved: /content/processed_data/flood/0213.tif\n",
            "Saved: /content/processed_data/flood/0232.tif\n",
            "Saved: /content/processed_data/flood/0174.tif\n",
            "Saved: /content/processed_data/flood/46.tif\n",
            "Saved: /content/processed_data/flood/0273.tif\n",
            "Empty or invalid folder: /content/SEN12FLOOD/SEN12FLOOD/0055\n",
            "Removing folder: /content/SEN12FLOOD/SEN12FLOOD/0055\n",
            "Empty or invalid folder: /content/SEN12FLOOD/SEN12FLOOD/0257\n",
            "Removing folder: /content/SEN12FLOOD/SEN12FLOOD/0257\n",
            "Saved: /content/processed_data/flood/0238.tif\n",
            "Saved: /content/processed_data/flood/0260.tif\n",
            "Saved: /content/processed_data/flood/0210.tif\n",
            "Saved: /content/processed_data/flood/0212.tif\n",
            "Saved: /content/processed_data/flood/0186.tif\n",
            "Saved: /content/processed_data/flood/0148.tif\n",
            "Saved: /content/processed_data/non_flood/0107.tif\n",
            "Saved: /content/processed_data/flood/0178.tif\n",
            "Saved: /content/processed_data/flood/0329.tif\n",
            "Empty or invalid folder: /content/SEN12FLOOD/SEN12FLOOD/36\n",
            "Removing folder: /content/SEN12FLOOD/SEN12FLOOD/36\n",
            "Saved: /content/processed_data/non_flood/0130.tif\n",
            "Saved: /content/processed_data/flood/0327.tif\n",
            "Saved: /content/processed_data/non_flood/45.tif\n",
            "Saved: /content/processed_data/flood/0319.tif\n",
            "Empty or invalid folder: /content/SEN12FLOOD/SEN12FLOOD/0128\n",
            "Removing folder: /content/SEN12FLOOD/SEN12FLOOD/0128\n",
            "Saved: /content/processed_data/flood/0215.tif\n",
            "Empty or invalid folder: /content/SEN12FLOOD/SEN12FLOOD/0031\n",
            "Removing folder: /content/SEN12FLOOD/SEN12FLOOD/0031\n",
            "Saved: /content/processed_data/flood/40.tif\n",
            "Saved: /content/processed_data/flood/0235.tif\n",
            "Saved: /content/processed_data/flood/0176.tif\n",
            "Saved: /content/processed_data/non_flood/0084.tif\n",
            "Saved: /content/processed_data/flood/0294.tif\n",
            "Empty or invalid folder: /content/SEN12FLOOD/SEN12FLOOD/0035\n",
            "Removing folder: /content/SEN12FLOOD/SEN12FLOOD/0035\n",
            "Saved: /content/processed_data/non_flood/0090.tif\n",
            "Saved: /content/processed_data/flood/0313.tif\n",
            "Saved: /content/processed_data/flood/0227.tif\n",
            "Saved: /content/processed_data/non_flood/0069.tif\n",
            "Empty or invalid folder: /content/SEN12FLOOD/SEN12FLOOD/11\n",
            "Removing folder: /content/SEN12FLOOD/SEN12FLOOD/11\n",
            "Saved: /content/processed_data/flood/0233.tif\n",
            "Saved: /content/processed_data/non_flood/0027.tif\n",
            "Saved: /content/processed_data/flood/0295.tif\n",
            "Saved: /content/processed_data/flood/0336.tif\n",
            "Saved: /content/processed_data/flood/0287.tif\n",
            "Saved: /content/processed_data/flood/0274.tif\n",
            "Saved: /content/processed_data/non_flood/0070.tif\n",
            "Saved: /content/processed_data/non_flood/0021.tif\n",
            "Saved: /content/processed_data/flood/0192.tif\n",
            "Saved: /content/processed_data/non_flood/0024.tif\n",
            "Saved: /content/processed_data/flood/0305.tif\n",
            "Saved: /content/processed_data/flood/0311.tif\n",
            "Saved: /content/processed_data/flood/0196.tif\n",
            "Saved: /content/processed_data/flood/0241.tif\n",
            "Saved: /content/processed_data/flood/0193.tif\n",
            "Saved: /content/processed_data/flood/8.tif\n",
            "Saved: /content/processed_data/flood/0168.tif\n",
            "Saved: /content/processed_data/flood/0300.tif\n",
            "Saved: /content/processed_data/flood/0285.tif\n",
            "Saved: /content/processed_data/flood/0234.tif\n",
            "Saved: /content/processed_data/flood/12.tif\n",
            "Empty or invalid folder: /content/SEN12FLOOD/SEN12FLOOD/0132\n",
            "Removing folder: /content/SEN12FLOOD/SEN12FLOOD/0132\n",
            "Saved: /content/processed_data/flood/0206.tif\n",
            "Saved: /content/processed_data/non_flood/0116.tif\n",
            "Saved: /content/processed_data/flood/41.tif\n",
            "Saved: /content/processed_data/flood/0144.tif\n",
            "Empty or invalid folder: /content/SEN12FLOOD/SEN12FLOOD/0043\n",
            "Removing folder: /content/SEN12FLOOD/SEN12FLOOD/0043\n",
            "Saved: /content/processed_data/non_flood/0093.tif\n",
            "Saved: /content/processed_data/flood/67.tif\n",
            "Saved: /content/processed_data/non_flood/0100.tif\n",
            "Saved: /content/processed_data/non_flood/0103.tif\n",
            "Saved: /content/processed_data/flood/0171.tif\n",
            "Empty or invalid folder: /content/SEN12FLOOD/SEN12FLOOD/0042\n",
            "Removing folder: /content/SEN12FLOOD/SEN12FLOOD/0042\n",
            "Saved: /content/processed_data/flood/0330.tif\n",
            "Saved: /content/processed_data/flood/0293.tif\n",
            "Saved: /content/processed_data/non_flood/31.tif\n",
            "Saved: /content/processed_data/flood/19.tif\n",
            "Empty or invalid folder: /content/SEN12FLOOD/SEN12FLOOD/14\n",
            "Removing folder: /content/SEN12FLOOD/SEN12FLOOD/14\n",
            "Saved: /content/processed_data/non_flood/55.tif\n",
            "Saved: /content/processed_data/flood/0198.tif\n",
            "Saved: /content/processed_data/flood/6.tif\n",
            "Saved: /content/processed_data/flood/65.tif\n",
            "Saved: /content/processed_data/flood/0216.tif\n",
            "Empty or invalid folder: /content/SEN12FLOOD/SEN12FLOOD/0057\n",
            "Removing folder: /content/SEN12FLOOD/SEN12FLOOD/0057\n",
            "Empty or invalid folder: /content/SEN12FLOOD/SEN12FLOOD/17\n",
            "Removing folder: /content/SEN12FLOOD/SEN12FLOOD/17\n",
            "Saved: /content/processed_data/non_flood/0073.tif\n",
            "Empty or invalid folder: /content/SEN12FLOOD/SEN12FLOOD/0028\n",
            "Removing folder: /content/SEN12FLOOD/SEN12FLOOD/0028\n",
            "Saved: /content/processed_data/flood/21.tif\n",
            "Saved: /content/processed_data/flood/0281.tif\n",
            "Saved: /content/processed_data/flood/0267.tif\n",
            "Saved: /content/processed_data/non_flood/57.tif\n",
            "Saved: /content/processed_data/flood/0277.tif\n",
            "Saved: /content/processed_data/non_flood/0123.tif\n",
            "Saved: /content/processed_data/non_flood/0015.tif\n",
            "Saved: /content/processed_data/flood/0262.tif\n",
            "Saved: /content/processed_data/flood/66.tif\n",
            "Saved: /content/processed_data/flood/0246.tif\n",
            "Saved: /content/processed_data/flood/0266.tif\n",
            "Empty or invalid folder: /content/SEN12FLOOD/SEN12FLOOD/0004\n",
            "Removing folder: /content/SEN12FLOOD/SEN12FLOOD/0004\n",
            "Empty or invalid folder: /content/SEN12FLOOD/SEN12FLOOD/0253\n",
            "Removing folder: /content/SEN12FLOOD/SEN12FLOOD/0253\n",
            "Saved: /content/processed_data/flood/0263.tif\n",
            "Saved: /content/processed_data/flood/0244.tif\n",
            "Saved: /content/processed_data/flood/0158.tif\n",
            "Saved: /content/processed_data/flood/53.tif\n",
            "Empty or invalid folder: /content/SEN12FLOOD/SEN12FLOOD/0131\n",
            "Removing folder: /content/SEN12FLOOD/SEN12FLOOD/0131\n",
            "Saved: /content/processed_data/non_flood/0007.tif\n",
            "Saved: /content/processed_data/non_flood/0010.tif\n",
            "Saved: /content/processed_data/flood/0316.tif\n",
            "Saved: /content/processed_data/non_flood/0074.tif\n",
            "Empty or invalid folder: /content/SEN12FLOOD/SEN12FLOOD/0033\n",
            "Removing folder: /content/SEN12FLOOD/SEN12FLOOD/0033\n",
            "Saved: /content/processed_data/non_flood/0085.tif\n",
            "Saved: /content/processed_data/flood/0201.tif\n",
            "Saved: /content/processed_data/non_flood/0101.tif\n",
            "Saved: /content/processed_data/flood/0221.tif\n",
            "Saved: /content/processed_data/flood/0299.tif\n",
            "Saved: /content/processed_data/flood/23.tif\n",
            "Saved: /content/processed_data/flood/3.tif\n",
            "Empty or invalid folder: /content/SEN12FLOOD/SEN12FLOOD/0141\n",
            "Removing folder: /content/SEN12FLOOD/SEN12FLOOD/0141\n",
            "Saved: /content/processed_data/flood/33.tif\n",
            "Empty or invalid folder: /content/SEN12FLOOD/SEN12FLOOD/0006\n",
            "Removing folder: /content/SEN12FLOOD/SEN12FLOOD/0006\n",
            "Saved: /content/processed_data/non_flood/0117.tif\n",
            "Empty or invalid folder: /content/SEN12FLOOD/SEN12FLOOD/0046\n",
            "Removing folder: /content/SEN12FLOOD/SEN12FLOOD/0046\n",
            "Empty or invalid folder: /content/SEN12FLOOD/SEN12FLOOD/0258\n",
            "Removing folder: /content/SEN12FLOOD/SEN12FLOOD/0258\n",
            "Empty or invalid folder: /content/SEN12FLOOD/SEN12FLOOD/0050\n",
            "Removing folder: /content/SEN12FLOOD/SEN12FLOOD/0050\n",
            "Saved: /content/processed_data/flood/0143.tif\n",
            "Saved: /content/processed_data/flood/0335.tif\n",
            "Saved: /content/processed_data/flood/0328.tif\n",
            "Saved: /content/processed_data/non_flood/0098.tif\n",
            "Saved: /content/processed_data/non_flood/0068.tif\n",
            "Saved: /content/processed_data/non_flood/37.tif\n",
            "Empty or invalid folder: /content/SEN12FLOOD/SEN12FLOOD/0134\n",
            "Removing folder: /content/SEN12FLOOD/SEN12FLOOD/0134\n",
            "Saved: /content/processed_data/flood/0243.tif\n",
            "Empty or invalid folder: /content/SEN12FLOOD/SEN12FLOOD/0145\n",
            "Removing folder: /content/SEN12FLOOD/SEN12FLOOD/0145\n",
            "Saved: /content/processed_data/non_flood/0081.tif\n",
            "Empty or invalid folder: /content/SEN12FLOOD/SEN12FLOOD/0044\n",
            "Removing folder: /content/SEN12FLOOD/SEN12FLOOD/0044\n",
            "Saved: /content/processed_data/non_flood/0104.tif\n",
            "Saved: /content/processed_data/flood/0304.tif\n",
            "Saved: /content/processed_data/non_flood/0022.tif\n",
            "Saved: /content/processed_data/flood/0157.tif\n",
            "Saved: /content/processed_data/flood/0323.tif\n",
            "Empty or invalid folder: /content/SEN12FLOOD/SEN12FLOOD/0133\n",
            "Removing folder: /content/SEN12FLOOD/SEN12FLOOD/0133\n",
            "Empty or invalid folder: /content/SEN12FLOOD/SEN12FLOOD/0053\n",
            "Removing folder: /content/SEN12FLOOD/SEN12FLOOD/0053\n",
            "Saved: /content/processed_data/flood/0271.tif\n",
            "Saved: /content/processed_data/flood/0310.tif\n",
            "Empty or invalid folder: /content/SEN12FLOOD/SEN12FLOOD/59\n",
            "Removing folder: /content/SEN12FLOOD/SEN12FLOOD/59\n",
            "Saved: /content/processed_data/flood/0282.tif\n",
            "Saved: /content/processed_data/flood/0222.tif\n",
            "Saved: /content/processed_data/flood/32.tif\n",
            "Saved: /content/processed_data/flood/0298.tif\n",
            "Saved: /content/processed_data/flood/35.tif\n",
            "Saved: /content/processed_data/non_flood/0020.tif\n",
            "Saved: /content/processed_data/non_flood/9.tif\n",
            "Saved: /content/processed_data/flood/0167.tif\n",
            "Saved: /content/processed_data/flood/0214.tif\n",
            "Saved: /content/processed_data/flood/0236.tif\n",
            "Saved: /content/processed_data/flood/0247.tif\n",
            "Saved: /content/processed_data/flood/0324.tif\n",
            "Saved: /content/processed_data/flood/0290.tif\n",
            "Saved: /content/processed_data/flood/0279.tif\n",
            "Saved: /content/processed_data/non_flood/29.tif\n",
            "Saved: /content/processed_data/non_flood/0075.tif\n",
            "Saved: /content/processed_data/non_flood/0013.tif\n",
            "Saved: /content/processed_data/non_flood/0102.tif\n",
            "Saved: /content/processed_data/non_flood/0001.tif\n",
            "Empty or invalid folder: /content/SEN12FLOOD/SEN12FLOOD/0045\n",
            "Removing folder: /content/SEN12FLOOD/SEN12FLOOD/0045\n",
            "Empty or invalid folder: /content/SEN12FLOOD/SEN12FLOOD/0140\n",
            "Removing folder: /content/SEN12FLOOD/SEN12FLOOD/0140\n",
            "Saved: /content/processed_data/flood/25.tif\n",
            "Saved: /content/processed_data/flood/0177.tif\n",
            "Saved: /content/processed_data/flood/0181.tif\n",
            "Saved: /content/processed_data/non_flood/7.tif\n",
            "Saved: /content/processed_data/flood/0250.tif\n",
            "Saved: /content/processed_data/flood/0334.tif\n",
            "Saved: /content/processed_data/non_flood/0126.tif\n",
            "Empty or invalid folder: /content/SEN12FLOOD/SEN12FLOOD/26\n",
            "Removing folder: /content/SEN12FLOOD/SEN12FLOOD/26\n",
            "Saved: /content/processed_data/flood/0326.tif\n",
            "Saved: /content/processed_data/flood/0169.tif\n",
            "Saved: /content/processed_data/non_flood/0076.tif\n",
            "Saved: /content/processed_data/flood/0162.tif\n",
            "Saved: /content/processed_data/non_flood/2.tif\n",
            "Saved: /content/processed_data/flood/0276.tif\n",
            "Saved: /content/processed_data/flood/44.tif\n",
            "Saved: /content/processed_data/non_flood/0061.tif\n",
            "Saved: /content/processed_data/non_flood/39.tif\n",
            "Saved: /content/processed_data/flood/0318.tif\n",
            "Saved: /content/processed_data/flood/0182.tif\n",
            "Empty or invalid folder: /content/SEN12FLOOD/SEN12FLOOD/13\n",
            "Removing folder: /content/SEN12FLOOD/SEN12FLOOD/13\n",
            "Saved: /content/processed_data/flood/0248.tif\n",
            "Saved: /content/processed_data/non_flood/0072.tif\n",
            "Saved: /content/processed_data/non_flood/38.tif\n",
            "Saved: /content/processed_data/flood/47.tif\n",
            "Saved: /content/processed_data/flood/0230.tif\n",
            "Saved: /content/processed_data/non_flood/0011.tif\n",
            "Saved: /content/processed_data/flood/0226.tif\n",
            "Saved: /content/processed_data/flood/0199.tif\n",
            "Saved: /content/processed_data/flood/0331.tif\n",
            "Saved: /content/processed_data/non_flood/50.tif\n",
            "Saved: /content/processed_data/non_flood/0091.tif\n",
            "Saved: /content/processed_data/flood/51.tif\n",
            "Saved: /content/processed_data/flood/61.tif\n",
            "Empty or invalid folder: /content/SEN12FLOOD/SEN12FLOOD/52\n",
            "Removing folder: /content/SEN12FLOOD/SEN12FLOOD/52\n",
            "Empty or invalid folder: /content/SEN12FLOOD/SEN12FLOOD/0254\n",
            "Removing folder: /content/SEN12FLOOD/SEN12FLOOD/0254\n",
            "Empty or invalid folder: /content/SEN12FLOOD/SEN12FLOOD/0036\n",
            "Removing folder: /content/SEN12FLOOD/SEN12FLOOD/0036\n",
            "Saved: /content/processed_data/flood/0207.tif\n",
            "Saved: /content/processed_data/flood/0320.tif\n",
            "Saved: /content/processed_data/non_flood/0120.tif\n",
            "Empty or invalid folder: /content/SEN12FLOOD/SEN12FLOOD/0151\n",
            "Removing folder: /content/SEN12FLOOD/SEN12FLOOD/0151\n",
            "Saved: /content/processed_data/flood/0229.tif\n",
            "Saved: /content/processed_data/flood/0280.tif\n",
            "Saved: /content/processed_data/non_flood/0060.tif\n",
            "Saved: /content/processed_data/flood/0188.tif\n",
            "Saved: /content/processed_data/flood/0306.tif\n",
            "Empty or invalid folder: /content/SEN12FLOOD/SEN12FLOOD/0256\n",
            "Removing folder: /content/SEN12FLOOD/SEN12FLOOD/0256\n",
            "Saved: /content/processed_data/flood/0321.tif\n",
            "Saved: /content/processed_data/non_flood/0121.tif\n",
            "Saved: /content/processed_data/flood/0161.tif\n",
            "Saved: /content/processed_data/non_flood/0026.tif\n",
            "Saved: /content/processed_data/flood/0259.tif\n",
            "Saved: /content/processed_data/flood/1.tif\n",
            "Saved: /content/processed_data/non_flood/0115.tif\n",
            "Empty or invalid folder: /content/SEN12FLOOD/SEN12FLOOD/0155\n",
            "Removing folder: /content/SEN12FLOOD/SEN12FLOOD/0155\n",
            "Empty or invalid folder: /content/SEN12FLOOD/SEN12FLOOD/0054\n",
            "Removing folder: /content/SEN12FLOOD/SEN12FLOOD/0054\n",
            "Saved: /content/processed_data/flood/0245.tif\n",
            "Empty or invalid folder: /content/SEN12FLOOD/SEN12FLOOD/42\n",
            "Removing folder: /content/SEN12FLOOD/SEN12FLOOD/42\n",
            "Saved: /content/processed_data/flood/0191.tif\n",
            "Saved: /content/processed_data/flood/43.tif\n",
            "Saved: /content/processed_data/flood/0154.tif\n",
            "Saved: /content/processed_data/flood/63.tif\n",
            "Saved: /content/processed_data/flood/0187.tif\n",
            "Saved: /content/processed_data/non_flood/0089.tif\n",
            "Saved: /content/processed_data/flood/0163.tif\n",
            "Empty or invalid folder: /content/SEN12FLOOD/SEN12FLOOD/0030\n",
            "Removing folder: /content/SEN12FLOOD/SEN12FLOOD/0030\n",
            "Saved: /content/processed_data/flood/0249.tif\n",
            "Saved: /content/processed_data/non_flood/0127.tif\n",
            "Saved: /content/processed_data/non_flood/30.tif\n",
            "Saved: /content/processed_data/flood/0138.tif\n",
            "Saved: /content/processed_data/non_flood/0088.tif\n",
            "Saved: /content/processed_data/flood/0218.tif\n",
            "Saved: /content/processed_data/non_flood/0067.tif\n",
            "Saved: /content/processed_data/flood/0194.tif\n",
            "Saved: /content/processed_data/flood/0261.tif\n",
            "Saved: /content/processed_data/flood/0278.tif\n",
            "Saved: /content/processed_data/non_flood/0099.tif\n",
            "Saved: /content/processed_data/flood/0272.tif\n",
            "Saved: /content/processed_data/flood/0303.tif\n",
            "Saved: /content/processed_data/flood/0160.tif\n",
            "Saved: /content/processed_data/flood/0220.tif\n",
            "Saved: /content/processed_data/non_flood/0025.tif\n",
            "Saved: /content/processed_data/non_flood/0077.tif\n",
            "Empty or invalid folder: /content/SEN12FLOOD/SEN12FLOOD/0037\n",
            "Removing folder: /content/SEN12FLOOD/SEN12FLOOD/0037\n",
            "Saved: /content/processed_data/non_flood/0125.tif\n",
            "Saved: /content/processed_data/flood/0240.tif\n",
            "Saved: /content/processed_data/flood/15.tif\n",
            "Saved: /content/processed_data/flood/54.tif\n",
            "Saved: /content/processed_data/non_flood/0118.tif\n",
            "Saved: /content/processed_data/flood/16.tif\n",
            "Saved: /content/processed_data/non_flood/0096.tif\n",
            "Saved: /content/processed_data/non_flood/48.tif\n",
            "Empty or invalid folder: /content/SEN12FLOOD/SEN12FLOOD/0\n",
            "Removing folder: /content/SEN12FLOOD/SEN12FLOOD/0\n",
            "Saved: /content/processed_data/flood/64.tif\n",
            "Saved: /content/processed_data/flood/0309.tif\n",
            "Saved: /content/processed_data/flood/0296.tif\n",
            "Saved: /content/processed_data/non_flood/0009.tif\n",
            "Empty or invalid folder: /content/SEN12FLOOD/SEN12FLOOD/0135\n",
            "Removing folder: /content/SEN12FLOOD/SEN12FLOOD/0135\n",
            "Empty or invalid folder: /content/SEN12FLOOD/SEN12FLOOD/0048\n",
            "Removing folder: /content/SEN12FLOOD/SEN12FLOOD/0048\n",
            "Saved: /content/processed_data/flood/0137.tif\n",
            "Saved: /content/processed_data/flood/0205.tif\n",
            "Empty or invalid folder: /content/SEN12FLOOD/SEN12FLOOD/0255\n",
            "Removing folder: /content/SEN12FLOOD/SEN12FLOOD/0255\n",
            "Saved: /content/processed_data/non_flood/0097.tif\n",
            "Saved: /content/processed_data/flood/0286.tif\n",
            "Saved: /content/processed_data/flood/0173.tif\n",
            "Saved: /content/processed_data/non_flood/0095.tif\n",
            "Saved: /content/processed_data/flood/0333.tif\n",
            "Saved: /content/processed_data/non_flood/0109.tif\n",
            "Saved: /content/processed_data/flood/58.tif\n",
            "Saved: /content/processed_data/non_flood/0079.tif\n",
            "Saved: /content/processed_data/flood/27.tif\n",
            "Saved: /content/processed_data/flood/0308.tif\n",
            "Saved: /content/processed_data/non_flood/0111.tif\n",
            "Saved: /content/processed_data/flood/0307.tif\n",
            "Saved: /content/processed_data/non_flood/0080.tif\n",
            "Empty or invalid folder: /content/SEN12FLOOD/SEN12FLOOD/0147\n",
            "Removing folder: /content/SEN12FLOOD/SEN12FLOOD/0147\n",
            "Saved: /content/processed_data/flood/0275.tif\n",
            "Saved: /content/processed_data/flood/0219.tif\n",
            "Saved: /content/processed_data/non_flood/0059.tif\n",
            "Empty or invalid folder: /content/SEN12FLOOD/SEN12FLOOD/0047\n",
            "Removing folder: /content/SEN12FLOOD/SEN12FLOOD/0047\n",
            "Saved: /content/processed_data/flood/22.tif\n",
            "Saved: /content/processed_data/flood/0166.tif\n",
            "Saved: /content/processed_data/flood/0217.tif\n",
            "Saved: /content/processed_data/non_flood/0106.tif\n",
            "Saved: /content/processed_data/non_flood/49.tif\n",
            "Empty or invalid folder: /content/SEN12FLOOD/SEN12FLOOD/24\n",
            "Removing folder: /content/SEN12FLOOD/SEN12FLOOD/24\n",
            "Empty or invalid folder: /content/SEN12FLOOD/SEN12FLOOD/0029\n",
            "Removing folder: /content/SEN12FLOOD/SEN12FLOOD/0029\n",
            "Preprocessing completed.\n"
          ]
        }
      ]
    },
    {
      "cell_type": "code",
      "source": [],
      "metadata": {
        "colab": {
          "base_uri": "https://localhost:8080/"
        },
        "id": "ohIQfbi3iIo5",
        "outputId": "5ecf912d-304e-4d53-e143-f93e8c305f63"
      },
      "execution_count": null,
      "outputs": [
        {
          "output_type": "stream",
          "name": "stdout",
          "text": [
            "Total files: 93\n"
          ]
        }
      ]
    },
    {
      "cell_type": "code",
      "source": [
        "pip install rasterio tensorflow"
      ],
      "metadata": {
        "id": "U-zgQklV0iEA",
        "colab": {
          "base_uri": "https://localhost:8080/"
        },
        "outputId": "7002748a-6365-4700-a1de-77e424e6c1c4"
      },
      "execution_count": null,
      "outputs": [
        {
          "output_type": "stream",
          "name": "stdout",
          "text": [
            "Requirement already satisfied: rasterio in /usr/local/lib/python3.11/dist-packages (1.4.3)\n",
            "Requirement already satisfied: tensorflow in /usr/local/lib/python3.11/dist-packages (2.18.0)\n",
            "Requirement already satisfied: affine in /usr/local/lib/python3.11/dist-packages (from rasterio) (2.4.0)\n",
            "Requirement already satisfied: attrs in /usr/local/lib/python3.11/dist-packages (from rasterio) (25.3.0)\n",
            "Requirement already satisfied: certifi in /usr/local/lib/python3.11/dist-packages (from rasterio) (2025.1.31)\n",
            "Requirement already satisfied: click>=4.0 in /usr/local/lib/python3.11/dist-packages (from rasterio) (8.1.8)\n",
            "Requirement already satisfied: cligj>=0.5 in /usr/local/lib/python3.11/dist-packages (from rasterio) (0.7.2)\n",
            "Requirement already satisfied: numpy>=1.24 in /usr/local/lib/python3.11/dist-packages (from rasterio) (2.0.2)\n",
            "Requirement already satisfied: click-plugins in /usr/local/lib/python3.11/dist-packages (from rasterio) (1.1.1)\n",
            "Requirement already satisfied: pyparsing in /usr/local/lib/python3.11/dist-packages (from rasterio) (3.2.3)\n",
            "Requirement already satisfied: absl-py>=1.0.0 in /usr/local/lib/python3.11/dist-packages (from tensorflow) (1.4.0)\n",
            "Requirement already satisfied: astunparse>=1.6.0 in /usr/local/lib/python3.11/dist-packages (from tensorflow) (1.6.3)\n",
            "Requirement already satisfied: flatbuffers>=24.3.25 in /usr/local/lib/python3.11/dist-packages (from tensorflow) (25.2.10)\n",
            "Requirement already satisfied: gast!=0.5.0,!=0.5.1,!=0.5.2,>=0.2.1 in /usr/local/lib/python3.11/dist-packages (from tensorflow) (0.6.0)\n",
            "Requirement already satisfied: google-pasta>=0.1.1 in /usr/local/lib/python3.11/dist-packages (from tensorflow) (0.2.0)\n",
            "Requirement already satisfied: libclang>=13.0.0 in /usr/local/lib/python3.11/dist-packages (from tensorflow) (18.1.1)\n",
            "Requirement already satisfied: opt-einsum>=2.3.2 in /usr/local/lib/python3.11/dist-packages (from tensorflow) (3.4.0)\n",
            "Requirement already satisfied: packaging in /usr/local/lib/python3.11/dist-packages (from tensorflow) (24.2)\n",
            "Requirement already satisfied: protobuf!=4.21.0,!=4.21.1,!=4.21.2,!=4.21.3,!=4.21.4,!=4.21.5,<6.0.0dev,>=3.20.3 in /usr/local/lib/python3.11/dist-packages (from tensorflow) (5.29.4)\n",
            "Requirement already satisfied: requests<3,>=2.21.0 in /usr/local/lib/python3.11/dist-packages (from tensorflow) (2.32.3)\n",
            "Requirement already satisfied: setuptools in /usr/local/lib/python3.11/dist-packages (from tensorflow) (75.2.0)\n",
            "Requirement already satisfied: six>=1.12.0 in /usr/local/lib/python3.11/dist-packages (from tensorflow) (1.17.0)\n",
            "Requirement already satisfied: termcolor>=1.1.0 in /usr/local/lib/python3.11/dist-packages (from tensorflow) (3.0.1)\n",
            "Requirement already satisfied: typing-extensions>=3.6.6 in /usr/local/lib/python3.11/dist-packages (from tensorflow) (4.13.2)\n",
            "Requirement already satisfied: wrapt>=1.11.0 in /usr/local/lib/python3.11/dist-packages (from tensorflow) (1.17.2)\n",
            "Requirement already satisfied: grpcio<2.0,>=1.24.3 in /usr/local/lib/python3.11/dist-packages (from tensorflow) (1.71.0)\n",
            "Requirement already satisfied: tensorboard<2.19,>=2.18 in /usr/local/lib/python3.11/dist-packages (from tensorflow) (2.18.0)\n",
            "Requirement already satisfied: keras>=3.5.0 in /usr/local/lib/python3.11/dist-packages (from tensorflow) (3.8.0)\n",
            "Requirement already satisfied: h5py>=3.11.0 in /usr/local/lib/python3.11/dist-packages (from tensorflow) (3.13.0)\n",
            "Requirement already satisfied: ml-dtypes<0.5.0,>=0.4.0 in /usr/local/lib/python3.11/dist-packages (from tensorflow) (0.4.1)\n",
            "Requirement already satisfied: tensorflow-io-gcs-filesystem>=0.23.1 in /usr/local/lib/python3.11/dist-packages (from tensorflow) (0.37.1)\n",
            "Requirement already satisfied: wheel<1.0,>=0.23.0 in /usr/local/lib/python3.11/dist-packages (from astunparse>=1.6.0->tensorflow) (0.45.1)\n",
            "Requirement already satisfied: rich in /usr/local/lib/python3.11/dist-packages (from keras>=3.5.0->tensorflow) (13.9.4)\n",
            "Requirement already satisfied: namex in /usr/local/lib/python3.11/dist-packages (from keras>=3.5.0->tensorflow) (0.0.9)\n",
            "Requirement already satisfied: optree in /usr/local/lib/python3.11/dist-packages (from keras>=3.5.0->tensorflow) (0.15.0)\n",
            "Requirement already satisfied: charset-normalizer<4,>=2 in /usr/local/lib/python3.11/dist-packages (from requests<3,>=2.21.0->tensorflow) (3.4.1)\n",
            "Requirement already satisfied: idna<4,>=2.5 in /usr/local/lib/python3.11/dist-packages (from requests<3,>=2.21.0->tensorflow) (3.10)\n",
            "Requirement already satisfied: urllib3<3,>=1.21.1 in /usr/local/lib/python3.11/dist-packages (from requests<3,>=2.21.0->tensorflow) (2.4.0)\n",
            "Requirement already satisfied: markdown>=2.6.8 in /usr/local/lib/python3.11/dist-packages (from tensorboard<2.19,>=2.18->tensorflow) (3.8)\n",
            "Requirement already satisfied: tensorboard-data-server<0.8.0,>=0.7.0 in /usr/local/lib/python3.11/dist-packages (from tensorboard<2.19,>=2.18->tensorflow) (0.7.2)\n",
            "Requirement already satisfied: werkzeug>=1.0.1 in /usr/local/lib/python3.11/dist-packages (from tensorboard<2.19,>=2.18->tensorflow) (3.1.3)\n",
            "Requirement already satisfied: MarkupSafe>=2.1.1 in /usr/local/lib/python3.11/dist-packages (from werkzeug>=1.0.1->tensorboard<2.19,>=2.18->tensorflow) (3.0.2)\n",
            "Requirement already satisfied: markdown-it-py>=2.2.0 in /usr/local/lib/python3.11/dist-packages (from rich->keras>=3.5.0->tensorflow) (3.0.0)\n",
            "Requirement already satisfied: pygments<3.0.0,>=2.13.0 in /usr/local/lib/python3.11/dist-packages (from rich->keras>=3.5.0->tensorflow) (2.19.1)\n",
            "Requirement already satisfied: mdurl~=0.1 in /usr/local/lib/python3.11/dist-packages (from markdown-it-py>=2.2.0->rich->keras>=3.5.0->tensorflow) (0.1.2)\n"
          ]
        }
      ]
    },
    {
      "cell_type": "code",
      "source": [
        "import os\n",
        "import rasterio\n",
        "import numpy as np\n",
        "import tensorflow as tf\n",
        "\n",
        "def load_tif(path):\n",
        "    path = path.decode('utf-8')  # <-- decode from bytes to str\n",
        "    with rasterio.open(path) as src:\n",
        "        image = src.read().astype(np.float32) / 10000.0\n",
        "        image = np.transpose(image, (1, 2, 0))  # (H, W, C)\n",
        "    return image\n",
        "\n",
        "\n",
        "def get_image_paths_labels(base_dir):\n",
        "    image_paths = []\n",
        "    labels = []\n",
        "\n",
        "    flood_dir = os.path.join(base_dir, 'flood')\n",
        "    non_flood_dir = os.path.join(base_dir, 'non_flood')\n",
        "\n",
        "    for filename in os.listdir(flood_dir):\n",
        "        if filename.endswith('.tif'):\n",
        "            image_paths.append(os.path.join(flood_dir, filename))\n",
        "            labels.append(1)\n",
        "\n",
        "    for filename in os.listdir(non_flood_dir):\n",
        "        if filename.endswith('.tif'):\n",
        "            image_paths.append(os.path.join(non_flood_dir, filename))\n",
        "            labels.append(0)\n",
        "\n",
        "    return image_paths, labels"
      ],
      "metadata": {
        "id": "D0SLWjkzuf3_"
      },
      "execution_count": null,
      "outputs": []
    },
    {
      "cell_type": "code",
      "source": [
        "def preprocess(path, label):\n",
        "    image = tf.numpy_function(load_tif, [path], tf.float32)\n",
        "    image.set_shape([None, None, 4])  # Sentinel-2 has 4 bands\n",
        "    image = tf.image.resize(image, [128, 128])  # Resize to fixed size\n",
        "    return image, tf.cast(label, tf.int32)\n",
        "\n",
        "def create_tf_dataset(image_paths, labels, batch_size=16):\n",
        "    path_ds = tf.data.Dataset.from_tensor_slices((image_paths, labels))\n",
        "    ds = path_ds.map(preprocess, num_parallel_calls=tf.data.AUTOTUNE)\n",
        "    ds = ds.shuffle(100).batch(batch_size).prefetch(tf.data.AUTOTUNE)\n",
        "    return ds\n"
      ],
      "metadata": {
        "id": "WkgFMwtimRAw"
      },
      "execution_count": null,
      "outputs": []
    },
    {
      "cell_type": "code",
      "source": [
        "base_dir = '/content/processed_data'\n",
        "image_paths, labels = get_image_paths_labels(base_dir)\n",
        "\n",
        "# Split 80-20\n",
        "from sklearn.model_selection import train_test_split\n",
        "# First split into train and temp (80% train, 20% temp)\n",
        "train_paths, temp_paths, train_labels, temp_labels = train_test_split(\n",
        "    image_paths, labels, test_size=0.4, random_state=42)\n",
        "\n",
        "# Split temp into val and test (each 20%)\n",
        "val_paths, test_paths, val_labels, test_labels = train_test_split(\n",
        "    temp_paths, temp_labels, test_size=0.5, random_state=42)\n",
        "\n",
        "# Create datasets\n",
        "train_ds = create_tf_dataset(train_paths, train_labels)\n",
        "val_ds   = create_tf_dataset(val_paths, val_labels)\n",
        "test_ds  = create_tf_dataset(test_paths, test_labels)"
      ],
      "metadata": {
        "id": "BnGVSvcc4LgL"
      },
      "execution_count": null,
      "outputs": []
    },
    {
      "cell_type": "code",
      "source": [
        "from tensorflow.keras import layers, models\n",
        "\n",
        "model = models.Sequential([\n",
        "    layers.Input(shape=(128, 128, 4)),\n",
        "    layers.Conv2D(32, 3, activation='relu'),\n",
        "    layers.MaxPooling2D(),\n",
        "\n",
        "    layers.Conv2D(64, 3, activation='relu'),\n",
        "    layers.MaxPooling2D(),\n",
        "\n",
        "    layers.Conv2D(128, 3, activation='relu'),\n",
        "    layers.GlobalAveragePooling2D(),\n",
        "\n",
        "    layers.Dense(64, activation='relu'),\n",
        "    layers.Dense(1, activation='sigmoid')\n",
        "])\n",
        "\n",
        "model.compile(optimizer='adam',\n",
        "              loss='binary_crossentropy',\n",
        "              metrics=['accuracy'])\n",
        "\n",
        "model.summary()"
      ],
      "metadata": {
        "colab": {
          "base_uri": "https://localhost:8080/",
          "height": 401
        },
        "id": "PSmxOwol4R5W",
        "outputId": "d68cc2f5-7c9a-4ce8-f022-4d42eb47ca57"
      },
      "execution_count": null,
      "outputs": [
        {
          "output_type": "display_data",
          "data": {
            "text/plain": [
              "\u001b[1mModel: \"sequential_1\"\u001b[0m\n"
            ],
            "text/html": [
              "<pre style=\"white-space:pre;overflow-x:auto;line-height:normal;font-family:Menlo,'DejaVu Sans Mono',consolas,'Courier New',monospace\"><span style=\"font-weight: bold\">Model: \"sequential_1\"</span>\n",
              "</pre>\n"
            ]
          },
          "metadata": {}
        },
        {
          "output_type": "display_data",
          "data": {
            "text/plain": [
              "┏━━━━━━━━━━━━━━━━━━━━━━━━━━━━━━━━━┳━━━━━━━━━━━━━━━━━━━━━━━━┳━━━━━━━━━━━━━━━┓\n",
              "┃\u001b[1m \u001b[0m\u001b[1mLayer (type)                   \u001b[0m\u001b[1m \u001b[0m┃\u001b[1m \u001b[0m\u001b[1mOutput Shape          \u001b[0m\u001b[1m \u001b[0m┃\u001b[1m \u001b[0m\u001b[1m      Param #\u001b[0m\u001b[1m \u001b[0m┃\n",
              "┡━━━━━━━━━━━━━━━━━━━━━━━━━━━━━━━━━╇━━━━━━━━━━━━━━━━━━━━━━━━╇━━━━━━━━━━━━━━━┩\n",
              "│ conv2d_3 (\u001b[38;5;33mConv2D\u001b[0m)               │ (\u001b[38;5;45mNone\u001b[0m, \u001b[38;5;34m126\u001b[0m, \u001b[38;5;34m126\u001b[0m, \u001b[38;5;34m32\u001b[0m)   │         \u001b[38;5;34m1,184\u001b[0m │\n",
              "├─────────────────────────────────┼────────────────────────┼───────────────┤\n",
              "│ max_pooling2d_2 (\u001b[38;5;33mMaxPooling2D\u001b[0m)  │ (\u001b[38;5;45mNone\u001b[0m, \u001b[38;5;34m63\u001b[0m, \u001b[38;5;34m63\u001b[0m, \u001b[38;5;34m32\u001b[0m)     │             \u001b[38;5;34m0\u001b[0m │\n",
              "├─────────────────────────────────┼────────────────────────┼───────────────┤\n",
              "│ conv2d_4 (\u001b[38;5;33mConv2D\u001b[0m)               │ (\u001b[38;5;45mNone\u001b[0m, \u001b[38;5;34m61\u001b[0m, \u001b[38;5;34m61\u001b[0m, \u001b[38;5;34m64\u001b[0m)     │        \u001b[38;5;34m18,496\u001b[0m │\n",
              "├─────────────────────────────────┼────────────────────────┼───────────────┤\n",
              "│ max_pooling2d_3 (\u001b[38;5;33mMaxPooling2D\u001b[0m)  │ (\u001b[38;5;45mNone\u001b[0m, \u001b[38;5;34m30\u001b[0m, \u001b[38;5;34m30\u001b[0m, \u001b[38;5;34m64\u001b[0m)     │             \u001b[38;5;34m0\u001b[0m │\n",
              "├─────────────────────────────────┼────────────────────────┼───────────────┤\n",
              "│ conv2d_5 (\u001b[38;5;33mConv2D\u001b[0m)               │ (\u001b[38;5;45mNone\u001b[0m, \u001b[38;5;34m28\u001b[0m, \u001b[38;5;34m28\u001b[0m, \u001b[38;5;34m128\u001b[0m)    │        \u001b[38;5;34m73,856\u001b[0m │\n",
              "├─────────────────────────────────┼────────────────────────┼───────────────┤\n",
              "│ global_average_pooling2d_1      │ (\u001b[38;5;45mNone\u001b[0m, \u001b[38;5;34m128\u001b[0m)            │             \u001b[38;5;34m0\u001b[0m │\n",
              "│ (\u001b[38;5;33mGlobalAveragePooling2D\u001b[0m)        │                        │               │\n",
              "├─────────────────────────────────┼────────────────────────┼───────────────┤\n",
              "│ dense_2 (\u001b[38;5;33mDense\u001b[0m)                 │ (\u001b[38;5;45mNone\u001b[0m, \u001b[38;5;34m64\u001b[0m)             │         \u001b[38;5;34m8,256\u001b[0m │\n",
              "├─────────────────────────────────┼────────────────────────┼───────────────┤\n",
              "│ dense_3 (\u001b[38;5;33mDense\u001b[0m)                 │ (\u001b[38;5;45mNone\u001b[0m, \u001b[38;5;34m1\u001b[0m)              │            \u001b[38;5;34m65\u001b[0m │\n",
              "└─────────────────────────────────┴────────────────────────┴───────────────┘\n"
            ],
            "text/html": [
              "<pre style=\"white-space:pre;overflow-x:auto;line-height:normal;font-family:Menlo,'DejaVu Sans Mono',consolas,'Courier New',monospace\">┏━━━━━━━━━━━━━━━━━━━━━━━━━━━━━━━━━┳━━━━━━━━━━━━━━━━━━━━━━━━┳━━━━━━━━━━━━━━━┓\n",
              "┃<span style=\"font-weight: bold\"> Layer (type)                    </span>┃<span style=\"font-weight: bold\"> Output Shape           </span>┃<span style=\"font-weight: bold\">       Param # </span>┃\n",
              "┡━━━━━━━━━━━━━━━━━━━━━━━━━━━━━━━━━╇━━━━━━━━━━━━━━━━━━━━━━━━╇━━━━━━━━━━━━━━━┩\n",
              "│ conv2d_3 (<span style=\"color: #0087ff; text-decoration-color: #0087ff\">Conv2D</span>)               │ (<span style=\"color: #00d7ff; text-decoration-color: #00d7ff\">None</span>, <span style=\"color: #00af00; text-decoration-color: #00af00\">126</span>, <span style=\"color: #00af00; text-decoration-color: #00af00\">126</span>, <span style=\"color: #00af00; text-decoration-color: #00af00\">32</span>)   │         <span style=\"color: #00af00; text-decoration-color: #00af00\">1,184</span> │\n",
              "├─────────────────────────────────┼────────────────────────┼───────────────┤\n",
              "│ max_pooling2d_2 (<span style=\"color: #0087ff; text-decoration-color: #0087ff\">MaxPooling2D</span>)  │ (<span style=\"color: #00d7ff; text-decoration-color: #00d7ff\">None</span>, <span style=\"color: #00af00; text-decoration-color: #00af00\">63</span>, <span style=\"color: #00af00; text-decoration-color: #00af00\">63</span>, <span style=\"color: #00af00; text-decoration-color: #00af00\">32</span>)     │             <span style=\"color: #00af00; text-decoration-color: #00af00\">0</span> │\n",
              "├─────────────────────────────────┼────────────────────────┼───────────────┤\n",
              "│ conv2d_4 (<span style=\"color: #0087ff; text-decoration-color: #0087ff\">Conv2D</span>)               │ (<span style=\"color: #00d7ff; text-decoration-color: #00d7ff\">None</span>, <span style=\"color: #00af00; text-decoration-color: #00af00\">61</span>, <span style=\"color: #00af00; text-decoration-color: #00af00\">61</span>, <span style=\"color: #00af00; text-decoration-color: #00af00\">64</span>)     │        <span style=\"color: #00af00; text-decoration-color: #00af00\">18,496</span> │\n",
              "├─────────────────────────────────┼────────────────────────┼───────────────┤\n",
              "│ max_pooling2d_3 (<span style=\"color: #0087ff; text-decoration-color: #0087ff\">MaxPooling2D</span>)  │ (<span style=\"color: #00d7ff; text-decoration-color: #00d7ff\">None</span>, <span style=\"color: #00af00; text-decoration-color: #00af00\">30</span>, <span style=\"color: #00af00; text-decoration-color: #00af00\">30</span>, <span style=\"color: #00af00; text-decoration-color: #00af00\">64</span>)     │             <span style=\"color: #00af00; text-decoration-color: #00af00\">0</span> │\n",
              "├─────────────────────────────────┼────────────────────────┼───────────────┤\n",
              "│ conv2d_5 (<span style=\"color: #0087ff; text-decoration-color: #0087ff\">Conv2D</span>)               │ (<span style=\"color: #00d7ff; text-decoration-color: #00d7ff\">None</span>, <span style=\"color: #00af00; text-decoration-color: #00af00\">28</span>, <span style=\"color: #00af00; text-decoration-color: #00af00\">28</span>, <span style=\"color: #00af00; text-decoration-color: #00af00\">128</span>)    │        <span style=\"color: #00af00; text-decoration-color: #00af00\">73,856</span> │\n",
              "├─────────────────────────────────┼────────────────────────┼───────────────┤\n",
              "│ global_average_pooling2d_1      │ (<span style=\"color: #00d7ff; text-decoration-color: #00d7ff\">None</span>, <span style=\"color: #00af00; text-decoration-color: #00af00\">128</span>)            │             <span style=\"color: #00af00; text-decoration-color: #00af00\">0</span> │\n",
              "│ (<span style=\"color: #0087ff; text-decoration-color: #0087ff\">GlobalAveragePooling2D</span>)        │                        │               │\n",
              "├─────────────────────────────────┼────────────────────────┼───────────────┤\n",
              "│ dense_2 (<span style=\"color: #0087ff; text-decoration-color: #0087ff\">Dense</span>)                 │ (<span style=\"color: #00d7ff; text-decoration-color: #00d7ff\">None</span>, <span style=\"color: #00af00; text-decoration-color: #00af00\">64</span>)             │         <span style=\"color: #00af00; text-decoration-color: #00af00\">8,256</span> │\n",
              "├─────────────────────────────────┼────────────────────────┼───────────────┤\n",
              "│ dense_3 (<span style=\"color: #0087ff; text-decoration-color: #0087ff\">Dense</span>)                 │ (<span style=\"color: #00d7ff; text-decoration-color: #00d7ff\">None</span>, <span style=\"color: #00af00; text-decoration-color: #00af00\">1</span>)              │            <span style=\"color: #00af00; text-decoration-color: #00af00\">65</span> │\n",
              "└─────────────────────────────────┴────────────────────────┴───────────────┘\n",
              "</pre>\n"
            ]
          },
          "metadata": {}
        },
        {
          "output_type": "display_data",
          "data": {
            "text/plain": [
              "\u001b[1m Total params: \u001b[0m\u001b[38;5;34m101,857\u001b[0m (397.88 KB)\n"
            ],
            "text/html": [
              "<pre style=\"white-space:pre;overflow-x:auto;line-height:normal;font-family:Menlo,'DejaVu Sans Mono',consolas,'Courier New',monospace\"><span style=\"font-weight: bold\"> Total params: </span><span style=\"color: #00af00; text-decoration-color: #00af00\">101,857</span> (397.88 KB)\n",
              "</pre>\n"
            ]
          },
          "metadata": {}
        },
        {
          "output_type": "display_data",
          "data": {
            "text/plain": [
              "\u001b[1m Trainable params: \u001b[0m\u001b[38;5;34m101,857\u001b[0m (397.88 KB)\n"
            ],
            "text/html": [
              "<pre style=\"white-space:pre;overflow-x:auto;line-height:normal;font-family:Menlo,'DejaVu Sans Mono',consolas,'Courier New',monospace\"><span style=\"font-weight: bold\"> Trainable params: </span><span style=\"color: #00af00; text-decoration-color: #00af00\">101,857</span> (397.88 KB)\n",
              "</pre>\n"
            ]
          },
          "metadata": {}
        },
        {
          "output_type": "display_data",
          "data": {
            "text/plain": [
              "\u001b[1m Non-trainable params: \u001b[0m\u001b[38;5;34m0\u001b[0m (0.00 B)\n"
            ],
            "text/html": [
              "<pre style=\"white-space:pre;overflow-x:auto;line-height:normal;font-family:Menlo,'DejaVu Sans Mono',consolas,'Courier New',monospace\"><span style=\"font-weight: bold\"> Non-trainable params: </span><span style=\"color: #00af00; text-decoration-color: #00af00\">0</span> (0.00 B)\n",
              "</pre>\n"
            ]
          },
          "metadata": {}
        }
      ]
    },
    {
      "cell_type": "code",
      "source": [
        "model.fit(train_ds, validation_data=val_ds, epochs=10)\n"
      ],
      "metadata": {
        "colab": {
          "base_uri": "https://localhost:8080/"
        },
        "id": "upmEPBCO4UWt",
        "outputId": "8fe53eeb-6774-439e-980a-31d49c38db3a"
      },
      "execution_count": null,
      "outputs": [
        {
          "output_type": "stream",
          "name": "stdout",
          "text": [
            "Epoch 1/10\n",
            "\u001b[1m11/11\u001b[0m \u001b[32m━━━━━━━━━━━━━━━━━━━━\u001b[0m\u001b[37m\u001b[0m \u001b[1m8s\u001b[0m 304ms/step - accuracy: 0.7022 - loss: 0.6741 - val_accuracy: 0.6250 - val_loss: 0.6566\n",
            "Epoch 2/10\n",
            "\u001b[1m11/11\u001b[0m \u001b[32m━━━━━━━━━━━━━━━━━━━━\u001b[0m\u001b[37m\u001b[0m \u001b[1m6s\u001b[0m 101ms/step - accuracy: 0.6607 - loss: 0.6279 - val_accuracy: 0.6250 - val_loss: 0.6534\n",
            "Epoch 3/10\n",
            "\u001b[1m11/11\u001b[0m \u001b[32m━━━━━━━━━━━━━━━━━━━━\u001b[0m\u001b[37m\u001b[0m \u001b[1m2s\u001b[0m 146ms/step - accuracy: 0.6532 - loss: 0.6025 - val_accuracy: 0.6250 - val_loss: 0.6647\n",
            "Epoch 4/10\n",
            "\u001b[1m11/11\u001b[0m \u001b[32m━━━━━━━━━━━━━━━━━━━━\u001b[0m\u001b[37m\u001b[0m \u001b[1m3s\u001b[0m 127ms/step - accuracy: 0.6910 - loss: 0.5522 - val_accuracy: 0.6250 - val_loss: 0.6755\n",
            "Epoch 5/10\n",
            "\u001b[1m11/11\u001b[0m \u001b[32m━━━━━━━━━━━━━━━━━━━━\u001b[0m\u001b[37m\u001b[0m \u001b[1m2s\u001b[0m 110ms/step - accuracy: 0.6549 - loss: 0.5389 - val_accuracy: 0.6250 - val_loss: 0.7033\n",
            "Epoch 6/10\n",
            "\u001b[1m11/11\u001b[0m \u001b[32m━━━━━━━━━━━━━━━━━━━━\u001b[0m\u001b[37m\u001b[0m \u001b[1m2s\u001b[0m 105ms/step - accuracy: 0.7470 - loss: 0.4948 - val_accuracy: 0.6786 - val_loss: 0.6903\n",
            "Epoch 7/10\n",
            "\u001b[1m11/11\u001b[0m \u001b[32m━━━━━━━━━━━━━━━━━━━━\u001b[0m\u001b[37m\u001b[0m \u001b[1m2s\u001b[0m 94ms/step - accuracy: 0.6394 - loss: 0.5079 - val_accuracy: 0.6786 - val_loss: 0.7492\n",
            "Epoch 8/10\n",
            "\u001b[1m11/11\u001b[0m \u001b[32m━━━━━━━━━━━━━━━━━━━━\u001b[0m\u001b[37m\u001b[0m \u001b[1m2s\u001b[0m 89ms/step - accuracy: 0.8038 - loss: 0.4650 - val_accuracy: 0.7143 - val_loss: 0.7674\n",
            "Epoch 9/10\n",
            "\u001b[1m11/11\u001b[0m \u001b[32m━━━━━━━━━━━━━━━━━━━━\u001b[0m\u001b[37m\u001b[0m \u001b[1m2s\u001b[0m 118ms/step - accuracy: 0.8107 - loss: 0.4592 - val_accuracy: 0.7857 - val_loss: 0.7174\n",
            "Epoch 10/10\n",
            "\u001b[1m11/11\u001b[0m \u001b[32m━━━━━━━━━━━━━━━━━━━━\u001b[0m\u001b[37m\u001b[0m \u001b[1m3s\u001b[0m 144ms/step - accuracy: 0.8882 - loss: 0.3885 - val_accuracy: 0.7321 - val_loss: 0.7270\n"
          ]
        },
        {
          "output_type": "execute_result",
          "data": {
            "text/plain": [
              "<keras.src.callbacks.history.History at 0x7fc61691a790>"
            ]
          },
          "metadata": {},
          "execution_count": 17
        }
      ]
    },
    {
      "cell_type": "code",
      "source": [
        "model.save(\"/content/flood_model.h5\")\n"
      ],
      "metadata": {
        "colab": {
          "base_uri": "https://localhost:8080/"
        },
        "id": "P7zd7V9Ojdmi",
        "outputId": "619bba35-b1dc-478d-bd79-48d0cdebad87"
      },
      "execution_count": null,
      "outputs": [
        {
          "output_type": "stream",
          "name": "stderr",
          "text": [
            "WARNING:absl:You are saving your model as an HDF5 file via `model.save()` or `keras.saving.save_model(model)`. This file format is considered legacy. We recommend using instead the native Keras format, e.g. `model.save('my_model.keras')` or `keras.saving.save_model(model, 'my_model.keras')`. \n"
          ]
        }
      ]
    },
    {
      "cell_type": "code",
      "source": [
        "loss, accuracy = model.evaluate(test_ds)\n",
        "print(f\"Test Accuracy: {accuracy * 100:.2f}%\")\n"
      ],
      "metadata": {
        "colab": {
          "base_uri": "https://localhost:8080/"
        },
        "id": "IPmWmmN0js6B",
        "outputId": "d43821f7-cdff-4a8c-8b89-c9decbd1507d"
      },
      "execution_count": null,
      "outputs": [
        {
          "output_type": "stream",
          "name": "stdout",
          "text": [
            "\u001b[1m4/4\u001b[0m \u001b[32m━━━━━━━━━━━━━━━━━━━━\u001b[0m\u001b[37m\u001b[0m \u001b[1m0s\u001b[0m 7ms/step - accuracy: 0.8036 - loss: 0.3441  \n",
            "Test Accuracy: 82.14%\n"
          ]
        }
      ]
    },
    {
      "cell_type": "code",
      "source": [
        "for image, label in test_ds.take(1):\n",
        "    prediction = model.predict(image)\n",
        "    print(\"Predicted:\", prediction.squeeze().round())\n",
        "    print(\"Actual:   \", label.numpy())\n"
      ],
      "metadata": {
        "colab": {
          "base_uri": "https://localhost:8080/"
        },
        "id": "oqNajkwfktbt",
        "outputId": "b2444465-82d1-43ec-f16e-f56a01d08a68"
      },
      "execution_count": null,
      "outputs": [
        {
          "output_type": "stream",
          "name": "stdout",
          "text": [
            "\u001b[1m1/1\u001b[0m \u001b[32m━━━━━━━━━━━━━━━━━━━━\u001b[0m\u001b[37m\u001b[0m \u001b[1m0s\u001b[0m 36ms/step\n",
            "Predicted: [1. 0. 1. 1. 1. 1. 1. 1. 1. 1. 1. 0. 1. 1. 1. 1.]\n",
            "Actual:    [0 0 1 0 1 1 0 1 1 1 0 0 1 1 1 0]\n"
          ]
        }
      ]
    }
  ]
}